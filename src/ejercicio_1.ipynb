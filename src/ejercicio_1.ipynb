{
 "cells": [
  {
   "cell_type": "markdown",
   "id": "8e715f17",
   "metadata": {},
   "source": [
    "# Ejercicio 1: Identificar empleados en formación\n",
    "\n",
    "Este ejercicio permite practicar cómo inducir reglas lógicas simples a partir de diferencias entre ejemplos positivos y negativos, tal como lo hace el algoritmo FOIL en su forma más básica.\n",
    "Se tiene un conjunto de datos con personas que trabajan en una empresa. Algunas están en formación (aprendices) y otras no. Cada persona tiene atributos como:\n",
    "- edad\n",
    "- departamento\n",
    "- nivel_educativo\n",
    "- en_formacion (booleano: True o False)"
   ]
  },
  {
   "cell_type": "code",
   "execution_count": 9,
   "id": "517288ea",
   "metadata": {},
   "outputs": [],
   "source": [
    "# Dataset de ejemplo\n",
    "datos = [\n",
    "{\"edad\": 22, \"departamento\": \"IT\", \"nivel_educativo\": \"terciario\", \"en_formacion\": True},\n",
    "{\"edad\": 24, \"departamento\": \"IT\", \"nivel_educativo\": \"universitario\", \"en_formacion\": True},\n",
    "{\"edad\": 21, \"departamento\": \"RRHH\", \"nivel_educativo\": \"terciario\", \"en_formacion\": True},\n",
    "{\"edad\": 35, \"departamento\": \"IT\", \"nivel_educativo\": \"universitario\", \"en_formacion\": False},\n",
    "{\"edad\": 40, \"departamento\": \"Finanzas\", \"nivel_educativo\": \"maestría\", \"en_formacion\": False},\n",
    "{\"edad\": 29, \"departamento\": \"RRHH\", \"nivel_educativo\": \"universitario\", \"en_formacion\": False},\n",
    "{\"edad\": 23, \"departamento\": \"IT\", \"nivel_educativo\": \"terciario\", \"en_formacion\": True},\n",
    "{\"edad\": 38, \"departamento\": \"Finanzas\", \"nivel_educativo\": \"universitario\", \"en_formacion\": False}]"
   ]
  },
  {
   "cell_type": "markdown",
   "id": "ee583d1b",
   "metadata": {},
   "source": [
    "**Objetivo del ejercicio:**\n",
    "1. Separar los ejemplos positivos (en_formacion == True) y negativos (en_formacion == False).\n",
    "2. Para cada atributo, identificar los valores que aparecen en los positivos pero no en los negativos.\n",
    "3. Desarrollar un programa en Python que muestre la Regla inducida para identificar a personas en formación:</br>\n",
    "        **Regla inducida para identificar a personas en formación:** <br/>\n",
    "        **Respuestas a las preguntas guía:**\n",
    "- ¿Qué valores de departamento aparecen solo en los positivos?\n",
    "- ¿Qué niveles educativos son comunes en los positivos pero no en los negativos?\n",
    "- ¿Qué edades aparecen solo en los positivos?"
   ]
  },
  {
   "cell_type": "code",
   "execution_count": 10,
   "id": "fd772968",
   "metadata": {},
   "outputs": [],
   "source": [
    "# Primero, separemos los datos entre los positivos y negativos:\n",
    "positivos = [p for p in datos if p[\"en_formacion\"]]\n",
    "negativos = [p for p in datos if not p[\"en_formacion\"]]"
   ]
  },
  {
   "cell_type": "code",
   "execution_count": 19,
   "id": "fb66e099",
   "metadata": {},
   "outputs": [],
   "source": [
    "# Paso 2: Extraer valores únicos de cada atributo\n",
    "def extraer_valores(lista, atributo):\n",
    "   return set(item[atributo] for item in lista)\n"
   ]
  },
  {
   "cell_type": "code",
   "execution_count": 20,
   "id": "ccba2ca7",
   "metadata": {},
   "outputs": [],
   "source": [
    "# Obtener valores únicos por atributo\n",
    "departamentos_pos = extraer_valores(positivos, \"departamento\")\n",
    "departamentos_neg = extraer_valores(negativos, \"departamento\")\n",
    "\n",
    "niveles_pos = extraer_valores(positivos, \"nivel_educativo\")\n",
    "niveles_neg = extraer_valores(negativos, \"nivel_educativo\")\n",
    "\n",
    "edades_pos = extraer_valores(positivos, \"edad\")\n",
    "edades_neg = extraer_valores(negativos, \"edad\")"
   ]
  },
  {
   "cell_type": "code",
   "execution_count": 21,
   "id": "571f4aa2",
   "metadata": {},
   "outputs": [],
   "source": [
    "# Paso 3: Identificar valores exclusivos de los positivos\n",
    "dept_solo_positivos = departamentos_pos - departamentos_neg\n",
    "niveles_solo_positivos = niveles_pos - niveles_neg\n",
    "edades_solo_positivas = edades_pos - edades_neg"
   ]
  },
  {
   "cell_type": "code",
   "execution_count": 22,
   "id": "2eea816a",
   "metadata": {},
   "outputs": [
    {
     "name": "stdout",
     "output_type": "stream",
     "text": [
      "1. ¿Qué valores de departamento aparecen solo en los positivos?\n",
      "   → Ninguno (todos los departamentos de positivos también aparecen en negativos)\n"
     ]
    }
   ],
   "source": [
    "print(\"1. ¿Qué valores de departamento aparecen solo en los positivos?\")\n",
    "if dept_solo_positivos:\n",
    "    print(f\"   → {dept_solo_positivos}\")\n",
    "else:\n",
    "    print(\"   → Ninguno (todos los departamentos de positivos también aparecen en negativos)\")\n"
   ]
  },
  {
   "cell_type": "code",
   "execution_count": 23,
   "id": "94cbb302",
   "metadata": {},
   "outputs": [
    {
     "name": "stdout",
     "output_type": "stream",
     "text": [
      "\n",
      "2. ¿Qué niveles educativos son comunes en los positivos pero no en los negativos?\n",
      "   → {'terciario'}\n"
     ]
    }
   ],
   "source": [
    "print(\"\\n2. ¿Qué niveles educativos son comunes en los positivos pero no en los negativos?\")\n",
    "if niveles_solo_positivos:\n",
    "    print(f\"   → {niveles_solo_positivos}\")\n",
    "else:\n",
    "    print(\"   → Ninguno\")"
   ]
  },
  {
   "cell_type": "code",
   "execution_count": 24,
   "id": "1e75c9e1",
   "metadata": {},
   "outputs": [
    {
     "name": "stdout",
     "output_type": "stream",
     "text": [
      "\n",
      "3. ¿Qué edades aparecen solo en los positivos?\n",
      "   → [21, 22, 23, 24]\n"
     ]
    }
   ],
   "source": [
    "print(\"\\n3. ¿Qué edades aparecen solo en los positivos?\")\n",
    "if edades_solo_positivas:\n",
    "    print(f\"   → {sorted(edades_solo_positivas)}\")\n",
    "else:\n",
    "    print(\"   → Ninguna\")"
   ]
  },
  {
   "cell_type": "code",
   "execution_count": 25,
   "id": "2b39b241",
   "metadata": {},
   "outputs": [
    {
     "name": "stdout",
     "output_type": "stream",
     "text": [
      "\n",
      "======================================================================\n",
      "REGLA INDUCIDA PARA IDENTIFICAR A PERSONAS EN FORMACIÓN\n",
      "======================================================================\n"
     ]
    }
   ],
   "source": [
    "# Paso 4: Construir la regla inducida\n",
    "print(\"\\n\" + \"=\"*70)\n",
    "print(\"REGLA INDUCIDA PARA IDENTIFICAR A PERSONAS EN FORMACIÓN\")\n",
    "print(\"=\"*70)\n",
    "\n",
    "reglas = []\n",
    "\n",
    "if niveles_solo_positivos:\n",
    "    reglas.append(f\"nivel_educativo IN {niveles_solo_positivos}\")\n",
    "\n",
    "if edades_solo_positivas:\n",
    "    rango_edad = f\"edad IN {sorted(edades_solo_positivas)}\"\n",
    "    reglas.append(rango_edad)\n",
    "\n",
    "if dept_solo_positivos:\n",
    "    reglas.append(f\"departamento IN {dept_solo_positivos}\")"
   ]
  },
  {
   "cell_type": "code",
   "execution_count": 27,
   "id": "3932aac2",
   "metadata": {},
   "outputs": [
    {
     "name": "stdout",
     "output_type": "stream",
     "text": [
      "\n",
      "Regla basada en atributos exclusivos:\n",
      "  nivel_educativo IN {'terciario'} Y edad IN [21, 22, 23, 24]\n",
      "\n",
      "Regla alternativa basada en patrones observados:\n",
      "  SI (edad <= 24) Y (nivel_educativo = 'terciario' O edad <= 24)\n",
      "  ENTONCES en_formacion = True\n",
      "\n",
      "** Observaciones: **\n",
      "  - Todas las personas en formación tienen 24 años o menos\n",
      "  - El nivel 'terciario' aparece SOLO en personas en formación\n",
      "  - Las personas no en formación tienen 29 años o más\n"
     ]
    }
   ],
   "source": [
    "# Observaciones adicionales\n",
    "edad_max_positivos = max(p[\"edad\"] for p in positivos)\n",
    "edad_min_negativos = min(n[\"edad\"] for n in negativos)\n",
    "\n",
    "print(\"\\nRegla basada en atributos exclusivos:\")\n",
    "if reglas:\n",
    "    print(\"  \" + \" Y \".join(reglas))\n",
    "else:\n",
    "    print(\"  No hay atributos completamente exclusivos de los positivos.\")\n",
    "\n",
    "print(\"\\nRegla alternativa basada en patrones observados:\")\n",
    "print(f\"  SI (edad <= {edad_max_positivos}) Y (nivel_educativo = 'terciario' O edad <= 24)\")\n",
    "print(f\"  ENTONCES en_formacion = True\")\n",
    "\n",
    "print(\"\\n** Observaciones: **\")\n",
    "print(f\"  - Todas las personas en formación tienen 24 años o menos\")\n",
    "print(f\"  - El nivel 'terciario' aparece SOLO en personas en formación\")\n",
    "print(f\"  - Las personas no en formación tienen 29 años o más\")\n"
   ]
  }
 ],
 "metadata": {
  "kernelspec": {
   "display_name": "base",
   "language": "python",
   "name": "python3"
  },
  "language_info": {
   "codemirror_mode": {
    "name": "ipython",
    "version": 3
   },
   "file_extension": ".py",
   "mimetype": "text/x-python",
   "name": "python",
   "nbconvert_exporter": "python",
   "pygments_lexer": "ipython3",
   "version": "3.11.7"
  }
 },
 "nbformat": 4,
 "nbformat_minor": 5
}
